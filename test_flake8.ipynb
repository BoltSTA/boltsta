{
 "cells": [
  {
   "cell_type": "code",
   "execution_count": null,
   "metadata": {},
   "outputs": [],
   "source": [
    "# import sys\n",
    "# import os\n",
    "\n",
    "# # Add the package directory to the Python path\n",
    "# sys.path.append(os.path.abspath(os.path.join(os.getcwd(), 'your_package')))\n",
    "\n",
    "# # Now you can import your package\n",
    "# import boltsta.network.path_detector "
   ]
  },
  {
   "cell_type": "code",
   "execution_count": 2,
   "metadata": {},
   "outputs": [],
   "source": [
    "import boltsta.network.path_detector "
   ]
  },
  {
   "cell_type": "code",
   "execution_count": 4,
   "metadata": {},
   "outputs": [],
   "source": [
    "file_path = '/data/islam_pc/GP_related/github_repos/boltsta_experiments/Network_Analysis_Team/Ali_playground/ClkDiv.v'\n",
    "rr, rr_atr, ir, ir_atr, ro, ro_atr,fanout =  boltsta.graph_path_handler(file_path)"
   ]
  },
  {
   "cell_type": "code",
   "execution_count": 5,
   "metadata": {},
   "outputs": [
    {
     "data": {
      "text/plain": [
       "{'_52_,sky130_fd_sc_hd__dfrtp_2': ['_32_,sky130_fd_sc_hd__and4_2,X_B',\n",
       "  '_33_,sky130_fd_sc_hd__or4b_2,X_B',\n",
       "  '_39_,sky130_fd_sc_hd__xor2_2,X_A'],\n",
       " 'i_rst_n,Input': ['_52_,sky130_fd_sc_hd__dfrtp_2,Q_RESET_B',\n",
       "  '_53_,sky130_fd_sc_hd__dfrtp_2,Q_RESET_B',\n",
       "  '_54_,sky130_fd_sc_hd__dfrtp_2,Q_RESET_B',\n",
       "  '_55_,sky130_fd_sc_hd__dfrtp_2,Q_RESET_B',\n",
       "  '_56_,sky130_fd_sc_hd__dfrtp_2,Q_RESET_B'],\n",
       " '_53_,sky130_fd_sc_hd__dfrtp_2': ['o_div_clk,Output,None'],\n",
       " '_54_,sky130_fd_sc_hd__dfrtp_2': ['_26_,sky130_fd_sc_hd__and2b_2,X_B',\n",
       "  '_27_,sky130_fd_sc_hd__and2b_2,X_A_N',\n",
       "  '_30_,sky130_fd_sc_hd__nand2_2,Y_A',\n",
       "  '_43_,sky130_fd_sc_hd__nand2_2,Y_A',\n",
       "  '_44_,sky130_fd_sc_hd__or2_2,X_A'],\n",
       " '_55_,sky130_fd_sc_hd__dfrtp_2': ['_28_,sky130_fd_sc_hd__xnor2_2,Y_B',\n",
       "  '_30_,sky130_fd_sc_hd__nand2_2,Y_B',\n",
       "  '_47_,sky130_fd_sc_hd__xor2_2,X_A'],\n",
       " '_56_,sky130_fd_sc_hd__dfrtp_2': ['_31_,sky130_fd_sc_hd__xor2_2,X_A',\n",
       "  '_33_,sky130_fd_sc_hd__or4b_2,X_A',\n",
       "  '_36_,sky130_fd_sc_hd__or4bb_2,X_B',\n",
       "  '_40_,sky130_fd_sc_hd__and4bb_2,X_B_N',\n",
       "  '_50_,sky130_fd_sc_hd__mux2_2,X_A0'],\n",
       " '_32_,sky130_fd_sc_hd__and4_2': ['_38_,sky130_fd_sc_hd__o211a_2,X_A1',\n",
       "  '_41_,sky130_fd_sc_hd__o31a_2,X_A2'],\n",
       " 'i_div_ratio__0,Input': ['_32_,sky130_fd_sc_hd__and4_2,X_A',\n",
       "  '_33_,sky130_fd_sc_hd__or4b_2,X_D_N',\n",
       "  '_36_,sky130_fd_sc_hd__or4bb_2,X_A',\n",
       "  '_40_,sky130_fd_sc_hd__and4bb_2,X_A_N'],\n",
       " '_33_,sky130_fd_sc_hd__or4b_2': ['_34_,sky130_fd_sc_hd__nor3b_2,Y_B'],\n",
       " '_36_,sky130_fd_sc_hd__or4bb_2': ['_38_,sky130_fd_sc_hd__o211a_2,X_B1'],\n",
       " '_40_,sky130_fd_sc_hd__and4bb_2': ['_41_,sky130_fd_sc_hd__o31a_2,X_A1'],\n",
       " '_28_,sky130_fd_sc_hd__xnor2_2': ['_29_,sky130_fd_sc_hd__mux2_2,X_S',\n",
       "  '_34_,sky130_fd_sc_hd__nor3b_2,Y_C_N'],\n",
       " 'i_div_ratio__2,Input': ['_28_,sky130_fd_sc_hd__xnor2_2,Y_A',\n",
       "  '_35_,sky130_fd_sc_hd__or2_2,X_A'],\n",
       " '_35_,sky130_fd_sc_hd__or2_2': ['_36_,sky130_fd_sc_hd__or4bb_2,X_D_N',\n",
       "  '_37_,sky130_fd_sc_hd__and2_2,X_B',\n",
       "  '_40_,sky130_fd_sc_hd__and4bb_2,X_D'],\n",
       " '_37_,sky130_fd_sc_hd__and2_2': ['_38_,sky130_fd_sc_hd__o211a_2,X_C1',\n",
       "  '_41_,sky130_fd_sc_hd__o31a_2,X_B1',\n",
       "  '_43_,sky130_fd_sc_hd__nand2_2,Y_B',\n",
       "  '_44_,sky130_fd_sc_hd__or2_2,X_B',\n",
       "  '_50_,sky130_fd_sc_hd__mux2_2,X_S'],\n",
       " 'i_clk_en,Input': ['_37_,sky130_fd_sc_hd__and2_2,X_A'],\n",
       " 'i_ref_clk,Input': ['_52_,sky130_fd_sc_hd__dfrtp_2,Q_CLK',\n",
       "  '_53_,sky130_fd_sc_hd__dfrtp_2,Q_CLK',\n",
       "  '_54_,sky130_fd_sc_hd__dfrtp_2,Q_CLK',\n",
       "  '_55_,sky130_fd_sc_hd__dfrtp_2,Q_CLK',\n",
       "  '_56_,sky130_fd_sc_hd__dfrtp_2,Q_CLK'],\n",
       " '_26_,sky130_fd_sc_hd__and2b_2': ['_29_,sky130_fd_sc_hd__mux2_2,X_A0',\n",
       "  '_34_,sky130_fd_sc_hd__nor3b_2,Y_A'],\n",
       " 'i_div_ratio__1,Input': ['_26_,sky130_fd_sc_hd__and2b_2,X_A_N',\n",
       "  '_27_,sky130_fd_sc_hd__and2b_2,X_B',\n",
       "  '_35_,sky130_fd_sc_hd__or2_2,X_B'],\n",
       " '_27_,sky130_fd_sc_hd__and2b_2': ['_29_,sky130_fd_sc_hd__mux2_2,X_A1',\n",
       "  '_33_,sky130_fd_sc_hd__or4b_2,X_C'],\n",
       " '_42_,sky130_fd_sc_hd__xor2_2': ['_53_,sky130_fd_sc_hd__dfrtp_2,Q_D'],\n",
       " 'o_div_clk,Output': ['_42_,sky130_fd_sc_hd__xor2_2,X_A'],\n",
       " '_39_,sky130_fd_sc_hd__xor2_2': ['_52_,sky130_fd_sc_hd__dfrtp_2,Q_D'],\n",
       " '_30_,sky130_fd_sc_hd__nand2_2': ['_31_,sky130_fd_sc_hd__xor2_2,X_B'],\n",
       " '_43_,sky130_fd_sc_hd__nand2_2': ['_45_,sky130_fd_sc_hd__and3b_2,X_B',\n",
       "  '_47_,sky130_fd_sc_hd__xor2_2,X_B'],\n",
       " '_44_,sky130_fd_sc_hd__or2_2': ['_45_,sky130_fd_sc_hd__and3b_2,X_C'],\n",
       " '_31_,sky130_fd_sc_hd__xor2_2': ['_32_,sky130_fd_sc_hd__and4_2,X_D',\n",
       "  '_49_,sky130_fd_sc_hd__nor2_2,Y_A'],\n",
       " '_49_,sky130_fd_sc_hd__nor2_2': ['_50_,sky130_fd_sc_hd__mux2_2,X_A1'],\n",
       " '_34_,sky130_fd_sc_hd__nor3b_2': ['_38_,sky130_fd_sc_hd__o211a_2,X_A2',\n",
       "  '_41_,sky130_fd_sc_hd__o31a_2,X_A3',\n",
       "  '_49_,sky130_fd_sc_hd__nor2_2,Y_B'],\n",
       " '_38_,sky130_fd_sc_hd__o211a_2': ['_39_,sky130_fd_sc_hd__xor2_2,X_B'],\n",
       " '_41_,sky130_fd_sc_hd__o31a_2': ['_42_,sky130_fd_sc_hd__xor2_2,X_B',\n",
       "  '_45_,sky130_fd_sc_hd__and3b_2,X_A_N',\n",
       "  '_48_,sky130_fd_sc_hd__nor2_2,Y_A'],\n",
       " '_45_,sky130_fd_sc_hd__and3b_2': ['_46_,sky130_fd_sc_hd__buf_1,X_A'],\n",
       " '_46_,sky130_fd_sc_hd__buf_1': ['_54_,sky130_fd_sc_hd__dfrtp_2,Q_D'],\n",
       " '_51_,sky130_fd_sc_hd__buf_1': ['_56_,sky130_fd_sc_hd__dfrtp_2,Q_D'],\n",
       " '_48_,sky130_fd_sc_hd__nor2_2': ['_55_,sky130_fd_sc_hd__dfrtp_2,Q_D'],\n",
       " '_29_,sky130_fd_sc_hd__mux2_2': ['_32_,sky130_fd_sc_hd__and4_2,X_C',\n",
       "  '_36_,sky130_fd_sc_hd__or4bb_2,X_C_N',\n",
       "  '_40_,sky130_fd_sc_hd__and4bb_2,X_C'],\n",
       " '_50_,sky130_fd_sc_hd__mux2_2': ['_51_,sky130_fd_sc_hd__buf_1,X_A'],\n",
       " '_47_,sky130_fd_sc_hd__xor2_2': ['_48_,sky130_fd_sc_hd__nor2_2,Y_B']}"
      ]
     },
     "execution_count": 5,
     "metadata": {},
     "output_type": "execute_result"
    }
   ],
   "source": [
    "fanout"
   ]
  },
  {
   "cell_type": "code",
   "execution_count": 6,
   "metadata": {},
   "outputs": [
    {
     "name": "stdout",
     "output_type": "stream",
     "text": [
      "['_52_,sky130_fd_sc_hd__dfrtp_2', '_33_,sky130_fd_sc_hd__or4b_2', '_34_,sky130_fd_sc_hd__nor3b_2', '_41_,sky130_fd_sc_hd__o31a_2', '_48_,sky130_fd_sc_hd__nor2_2', '_55_,sky130_fd_sc_hd__dfrtp_2']\n",
      "['X_B', 'Y_B', 'X_A3', 'Y_A', 'Q_D']\n"
     ]
    }
   ],
   "source": [
    "print(rr[7])\n",
    "print(rr_atr[7])"
   ]
  }
 ],
 "metadata": {
  "kernelspec": {
   "display_name": "Python 3",
   "language": "python",
   "name": "python3"
  },
  "language_info": {
   "codemirror_mode": {
    "name": "ipython",
    "version": 3
   },
   "file_extension": ".py",
   "mimetype": "text/x-python",
   "name": "python",
   "nbconvert_exporter": "python",
   "pygments_lexer": "ipython3",
   "version": "3.10.12"
  }
 },
 "nbformat": 4,
 "nbformat_minor": 2
}
